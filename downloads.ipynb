{
 "cells": [
  {
   "cell_type": "code",
   "execution_count": 1,
   "id": "9255d825",
   "metadata": {},
   "outputs": [
    {
     "name": "stdout",
     "output_type": "stream",
     "text": [
      "Entered OTP: 3543215\n",
      "Generated OTP: 434988\n",
      "Entered OTP: 434988\n",
      "Generated OTP: 434988\n",
      "Entered Email OTP: wfdsa\n",
      "Generated Email OTP: UUlF4B7d\n",
      "Entered Email OTP: UUlF4B7d\n",
      "Generated Email OTP: UUlF4B7d\n"
     ]
    }
   ],
   "source": [
    "import tkinter as tk\n",
    "from tkinter import messagebox\n",
    "import random\n",
    "import string\n",
    "\n",
    "# Function to generate a 6-digit OTP\n",
    "def generate_otp():\n",
    "    return random.randint(100000, 999999)\n",
    "\n",
    "# Function to generate an email OTP\n",
    "def generate_email_otp():\n",
    "    return ''.join(random.choices(string.ascii_letters + string.digits, k=8))\n",
    "\n",
    "# Function to verify the entered OTP\n",
    "def verify_otp():\n",
    "    entered_otp = int(otp_entry.get())  # Get the entered OTP\n",
    "    print(\"Entered OTP:\", entered_otp)\n",
    "    print(\"Generated OTP:\", generated_otp)\n",
    "    if entered_otp == generated_otp:\n",
    "        messagebox.showinfo(\"OTP Verification\", \"OTP Verified Successfully! Access Granted.\")\n",
    "    else:\n",
    "        messagebox.showerror(\"OTP Verification\", \"Incorrect OTP. Access Denied.\")\n",
    "\n",
    "# Function to verify the entered email OTP\n",
    "def verify_email_otp():\n",
    "    entered_email_otp = email_otp_entry.get()  # Get the entered email OTP\n",
    "    print(\"Entered Email OTP:\", entered_email_otp)\n",
    "    print(\"Generated Email OTP:\", generated_email_otp)\n",
    "    if entered_email_otp == generated_email_otp:\n",
    "        messagebox.showinfo(\"Email OTP Verification\", \"Email OTP Verified Successfully! Access Granted.\")\n",
    "    else:\n",
    "        messagebox.showerror(\"Email OTP Verification\", \"Incorrect Email OTP. Access Denied.\")\n",
    "\n",
    "# Generate OTPs\n",
    "generated_otp = generate_otp()\n",
    "generated_email_otp = generate_email_otp()\n",
    "\n",
    "# Create GUI window\n",
    "window = tk.Tk()\n",
    "window.title(\"OTP & Email Verification System\")\n",
    "\n",
    "# Label and Entry for OTP input\n",
    "otp_label = tk.Label(window, text=\"Enter OTP:\")\n",
    "otp_label.pack()\n",
    "otp_entry = tk.Entry(window)\n",
    "otp_entry.pack()\n",
    "\n",
    "# Verify OTP button\n",
    "verify_button = tk.Button(window, text=\"Verify OTP\", command=verify_otp)\n",
    "verify_button.pack()\n",
    "\n",
    "# Label and Entry for Email OTP input\n",
    "email_otp_label = tk.Label(window, text=\"Enter Email OTP:\")\n",
    "email_otp_label.pack()\n",
    "email_otp_entry = tk.Entry(window)\n",
    "email_otp_entry.pack()\n",
    "\n",
    "\n",
    "# Verify Email OTP button\n",
    "verify_email_otp_button = tk.Button(window, text=\"Verify Email OTP\", command=verify_email_otp)\n",
    "verify_email_otp_button.pack()\n",
    "\n",
    "# Start GUI event loop\n",
    "window.mainloop()\n"
   ]
  },
  {
   "cell_type": "code",
   "execution_count": null,
   "id": "04eb2857",
   "metadata": {},
   "outputs": [],
   "source": []
  },
  {
   "cell_type": "code",
   "execution_count": null,
   "id": "a49be5f4",
   "metadata": {},
   "outputs": [],
   "source": []
  }
 ],
 "metadata": {
  "kernelspec": {
   "display_name": "Python 3 (ipykernel)",
   "language": "python",
   "name": "python3"
  },
  "language_info": {
   "codemirror_mode": {
    "name": "ipython",
    "version": 3
   },
   "file_extension": ".py",
   "mimetype": "text/x-python",
   "name": "python",
   "nbconvert_exporter": "python",
   "pygments_lexer": "ipython3",
   "version": "3.11.5"
  }
 },
 "nbformat": 4,
 "nbformat_minor": 5
}
